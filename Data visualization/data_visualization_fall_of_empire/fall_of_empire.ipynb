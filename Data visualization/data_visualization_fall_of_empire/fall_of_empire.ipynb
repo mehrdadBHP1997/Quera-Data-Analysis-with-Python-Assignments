{
 "cells": [
  {
   "attachments": {},
   "cell_type": "markdown",
   "metadata": {},
   "source": [
    "<h1 align=center style=\"line-height:200%;font-family:vazir;color:#0099cc\">\n",
    "<font face=\"vazir\" color=\"#0099cc\">\n",
    "سقوط امپراطوری\n",
    "</font>\n",
    "</h1>"
   ]
  },
  {
   "attachments": {},
   "cell_type": "markdown",
   "metadata": {},
   "source": [
    "<p dir=rtl style=\"direction: rtl;text-align: justify;line-height:200%;font-family:vazir;font-size:medium\">\n",
    "<font face=\"vazir\" size=3>\n",
    "در یک شرکت، تعدادی کارمند مشغول به فروش محصولات به مشتری‌ها هستند. مدیر شرکت از عملکرد فروش کارمندان در ماه فروردین اصلاً راضی نیست؛ بنابراین، همه‌ی آن‌ها را در ماه اردیبهشت به مرخصی اجباری می‌فرستد و تعدادی بز (!) را جایگزین آن‌ها می‌کند. شما در این قسمت باید نمودار فروش شرکت در دو ماه فروردین و اردیبهشت را رسم کنید.\n",
    "</font>\n",
    "</p>"
   ]
  },
  {
   "attachments": {},
   "cell_type": "markdown",
   "metadata": {},
   "source": [
    "<h2 align=right style=\"line-height:200%;font-family:vazir;color:#0099cc\">\n",
    "<font face=\"vazir\" color=\"#0099cc\">\n",
    "رسم نمودار</font>\n",
    "</h2>"
   ]
  },
  {
   "attachments": {},
   "cell_type": "markdown",
   "metadata": {},
   "source": [
    "<h3 align=right style=\"line-height:200%;font-family:vazir;color:#0099cc\">\n",
    "<font face=\"vazir\" color=\"#0099cc\">\n",
    "تغییر محدوده‌ی محور افقی و عمودی</font>\n",
    "</h3>\n",
    "\n",
    "<p dir=rtl style=\"direction: rtl;text-align: justify;line-height:200%;font-family:vazir;font-size:medium\">\n",
    "<font face=\"vazir\" size=3>\n",
    "مت‌پلات به طور پیش‌فرض محدوده‌ی اعداد محور افقی و عمودی را از روی داده‌های ورودی مشخص می‌کند. یعنی اگر داده‌های ورودی در محور عمودی، بین ۱۰ تا ۲۰ باشد، مت‌پلات محدوده‌ی محور عمودی را بازه بین ۱۰ تا ۲۰ در نظر می‌گیرد. در مواردی لازم می‌شود که این بازه را تغییر دهیم (مثلاً آن را بزرگ‌تر کنیم). برای این‌کار از متد‌های <code>set_ylim</code> و <code>set_xlim</code> استفاده می‌کنیم. \n",
    "ورودی این تابع دو عدد، که ابتدا و انتهای محور را مشخص می‌کنند، می‌باشد. در این تمرین از این ویژگی مت‌پلات استفاده می‌کنیم.\n",
    "</font>\n",
    "</p>"
   ]
  },
  {
   "attachments": {},
   "cell_type": "markdown",
   "metadata": {},
   "source": [
    "<h3 align=right style=\"line-height:200%;font-family:vazir;color:#0099cc\">\n",
    "<font face=\"vazir\" color=\"#0099cc\">\n",
    "موارد خواسته شده\n",
    "</font>\n",
    "</h3>\n",
    "\n",
    "<p dir=rtl style=\"direction: rtl;text-align: justify;line-height:200%;font-family:vazir;font-size:medium\">\n",
    "<font face=\"vazir\" size=3>\n",
    "برای رسم نمودار، عملیات زیر را انجام دهید:\n",
    "\n",
    "<ul dir =rtl style=\"direction: rtl;text-align: justify;line-height:200%;font-family:vazir;font-size:medium\">\n",
    "  <li>\n",
    "یک شکل شامل دو صفحه‌محور بسازید و اندازه‌ی شکل را برابر ۱۰ در ۵ اینچ قرار دهید.</li>\n",
    "\n",
    "  <li>\n",
    "در تابع <code>subplots</code> مقدار پارامتر <code>sharey</code> را برابر <code>True</code> قرار دهید تا اعداد محور عمودی برای هر دو صفحه‌محور تکرار نشوند. (هر دو یکسان هستند و می‌توان با این روش نمودار خلوت‌تر و خوانا‌تری داشت.)</li>\n",
    "\n",
    "  <li>\n",
    "دو سری داده داریم: داده‌ی فروش هنگام حضور کارمندان در ماه فروردین و داده‌ی فروش هنگام حضور بزها در ماه اردیبهشت. داده‌ی کارمندان را در صفحه‌محور سمت چپ و داده‌ی حضور بزها را در صفحه‌محور سمت راست رسم کنید.</li>\n",
    "\n",
    "  <li>\n",
    "با استفاده از توابعی که برای تغییر محدوده‌ی محور افقی و عمودی در همین تمرین معرفی کردیم، محدوده‌ی محور عمودی را برای هر دو نمودار تغییر داده و بازه‌ی ۱۵۰۰ تا ۳۵۰۰ را به این صفحه‌محورها اختصاص دهید.</li>\n",
    "  <li>\n",
    "عنوان صفحه‌محور سمت چپ را <code>farvardin</code> و عنوان صفحه‌محور سمت راست را <code>ordibehesht</code> قرار دهید.\n",
    "</li>\n",
    "\n",
    "<li>\n",
    "عنوان محور افقی را برای هر دو صفحه‌محور برابر <code>days</code> و عنوان محور عمودی را برای صفحه‌محور سمت چپ برابر <code>count</code> قرار دهید. چون این محور را برای هر دو صفحه‌محور یکسان قرار دادیم، فقط محور عمودی صفحه‌محور سمت چپی نیاز به عنوان دارد.\n",
    "</li>\n",
    "\n",
    "\n",
    "<li>\n",
    "از ویژگی <code>legend</code> مت‌پلات استفاده کرده و عنوان داده‌ی صفحه‌محور سمت چپ را <code>employees</code> و عنوان داده‌ی صفحه‌محور سمت راست را <code>goats</code> قرار دهید.\n",
    "</li>\n",
    "\n",
    "</ul>\n",
    "</font>\n",
    "</p>\n",
    "\n",
    "<p dir=rtl style=\"direction: rtl;text-align: right;line-height:200%;font-family:vazir;font-size:medium\">\n",
    "<font face=\"vazir\" size=3>\n",
    "در نهایت نمودار شما به شکل زیر خواهد شد:\n",
    "</font>\n",
    "</p>\n",
    "\n",
    "<p style=\"text-align:center;\"><img src=\"output.png\"></p>\n",
    "\n"
   ]
  },
  {
   "cell_type": "code",
   "execution_count": null,
   "metadata": {},
   "outputs": [],
   "source": [
    "import matplotlib.pyplot as plt\n",
    "\n",
    "employees = [2883, 2944, 2774, 2343, 2239, 2063, 2329, 2652, 2500, 2502, 2684,\n",
    "       2823, 2644, 2433, 2218, 2194, 2900, 2602, 2771, 2205, 2503, 2650,\n",
    "       2639, 2996, 2296, 2231, 2026, 2658, 2187, 2869]\n",
    "\n",
    "goats = [2958, 2425, 2360, 2039, 2909, 2206, 2359, 2198, 2619, 2649, 2076,\n",
    "       2623, 2275, 2481, 2458, 2724, 2520, 2645, 2561, 2518, 2895, 2726,\n",
    "       2500, 2578, 2542, 2585, 2931, 2564, 2420, 2930]\n",
    "\n",
    "fig, ax = None # to do"
   ]
  },
  {
   "attachments": {},
   "cell_type": "markdown",
   "metadata": {},
   "source": [
    "<h2 align=right style=\"line-height:200%;font-family:vazir;color:#0099cc\">\n",
    "<font face=\"vazir\" color=\"#0099cc\">\n",
    "<b>سلول جواب‌ساز</b>\n",
    "</font>\n",
    "</h2>\n",
    "\n",
    "\n",
    "<p dir=rtl style=\"direction: rtl; text-align: justify; line-height:200%; font-family:vazir; font-size:medium\">\n",
    "<font face=\"vazir\" size=3>\n",
    "    برای ساخته‌شدن فایل <code>result.zip</code> سلول زیر را اجرا کنید. توجه داشته باشید که پیش از اجرای سلول زیر تغییرات اعمال شده در نت‌بوک را ذخیره کرده باشید (<code>ctrl+s</code>) تا در صورت نیاز به پشتیبانی امکان بررسی کد شما وجود داشته باشد.\n",
    "</font>\n",
    "</p>"
   ]
  },
  {
   "cell_type": "code",
   "execution_count": null,
   "metadata": {},
   "outputs": [],
   "source": [
    "import zipfile\n",
    "import joblib\n",
    "import json\n",
    "\n",
    "joblib.dump(fig,\"fig\")\n",
    "\n",
    "def compress(file_names):\n",
    "    print(\"File Paths:\")\n",
    "    print(file_names)\n",
    "    # Select the compression mode ZIP_DEFLATED for compression\n",
    "    # or zipfile.ZIP_STORED to just store the file\n",
    "    compression = zipfile.ZIP_DEFLATED\n",
    "    # create the zip file first parameter path/name, second mode\n",
    "    with zipfile.ZipFile(\"result.zip\", mode=\"w\") as zf:\n",
    "        for file_name in file_names:\n",
    "            # Add file to the zip file\n",
    "            # first parameter file to zip, second filename in zip\n",
    "            zf.write('./' + file_name, file_name, compress_type=compression)\n",
    "\n",
    "file_names = [\"fig\",\"fall_of_empire.ipynb\"]\n",
    "compress(file_names)"
   ]
  }
 ],
 "metadata": {
  "interpreter": {
   "hash": "243856ee5aa5cfcf7c7fc5e27ace1f0d0cf471c324fa5d741db742eb1bed0a33"
  },
  "kernelspec": {
   "display_name": "Python 3.7.4 64-bit",
   "name": "python3"
  },
  "language_info": {
   "codemirror_mode": {
    "name": "ipython",
    "version": 3
   },
   "file_extension": ".py",
   "mimetype": "text/x-python",
   "name": "python",
   "nbconvert_exporter": "python",
   "pygments_lexer": "ipython3",
   "version": "3.7.4"
  },
  "orig_nbformat": 4
 },
 "nbformat": 4,
 "nbformat_minor": 2
}
